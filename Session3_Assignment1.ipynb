{
 "cells": [
  {
   "cell_type": "code",
   "execution_count": 2,
   "metadata": {},
   "outputs": [
    {
     "name": "stdout",
     "output_type": "stream",
     "text": [
      "[12, 15, 18]\n",
      "[12, 15, 18]\n"
     ]
    }
   ],
   "source": [
    "# Realization of own reduce() function using list addition\n",
    "def list_addition_without_reduce(MyList):\n",
    "    SizeOfList = len(MyList)\n",
    "    SumList =[]\n",
    "    i=0\n",
    "    while i<SizeOfList:\n",
    "        # Using the list comprehension and using the default sum() to get the sum of the elements\n",
    "        ListElements = sum([x[i] for x in MyList])\n",
    "        SumList.append(ListElements)\n",
    "        i=i+1\n",
    "    return SumList\n",
    "\n",
    "#The above function adds the first element in the three sub lists Eg.,1+4+7\n",
    "print(list_addition_without_reduce([[1,2,3],[4,5,6],[7,8,9]]))\n",
    "\n",
    "# List addition using reduce() function\n",
    "from functools import reduce\n",
    "def list_addition_reduce(MyList):\n",
    "    SizeOfList = len(MyList)\n",
    "    SumList =[]\n",
    "    i=0\n",
    "    while i<SizeOfList:        \n",
    "        # Using the list comprehension to first split the n th element of the list \n",
    "        # Then use the reduce() to get the sum out of it\n",
    "        ListElements = reduce(lambda x,y : x+y,([x[i] for x in MyList]))\n",
    "        SumList.append(ListElements)\n",
    "        i=i+1\n",
    "    return SumList\n",
    "\n",
    "print(list_addition_reduce([[1,2,3],[4,5,6],[7,8,9]]))"
   ]
  },
  {
   "cell_type": "code",
   "execution_count": 15,
   "metadata": {},
   "outputs": [
    {
     "name": "stdout",
     "output_type": "stream",
     "text": [
      "Even numbers present in the list are :  [2, 4, 6, 8]\n",
      "Even numbers present in the list are :  [2, 4, 6, 8]\n"
     ]
    }
   ],
   "source": [
    "# Even number check function using own filter() function\n",
    "def CheckEven_WithoutFilter(NumberList):\n",
    "    EvenList = []\n",
    "    for number in NumberList:\n",
    "        if number%2 == 0:\n",
    "           EvenList.append(number)\n",
    "    return EvenList\n",
    "\n",
    "print(\"Even numbers present in the list are : \",CheckEven_WithoutFilter([1,2,3,4,5,6,7,8,9]))\n",
    "\n",
    "\n",
    "# Even number check function using filter()\n",
    "def Check_Even(NumberList):\n",
    "    EvenList = list(filter(lambda x: x%2 == 0, NumberList))\n",
    "    return EvenList\n",
    "\n",
    "print(\"Even numbers present in the list are : \",Check_Even([1,2,3,4,5,6,7,8,9]))"
   ]
  },
  {
   "cell_type": "code",
   "execution_count": 18,
   "metadata": {},
   "outputs": [
    {
     "name": "stdout",
     "output_type": "stream",
     "text": [
      "['A', 'C', 'A', 'D', 'G', 'I', 'L', 'D']\n",
      "['X', 'XX', 'XXX', 'XXXX', 'Y', 'YY', 'YYY', 'YYYY', 'Z', 'ZZ', 'ZZZ', 'ZZZZ']\n",
      "['X', 'Y', 'Z', 'XX', 'YY', 'ZZ', 'XXX', 'YYY', 'ZZZ', 'XXXX', 'YYYY', 'ZZZZ']\n",
      "[[2], [3], [4], [3], [4], [5], [4], [5], [6]]\n",
      "[[2, 3, 4, 5], [3, 4, 5, 6], [4, 5, 6, 7], [5, 6, 7, 8]]\n",
      "[(1, 1), (2, 1), (3, 1), (1, 2), (2, 2), (3, 2), (1, 3), (2, 3), (3, 3)]\n"
     ]
    }
   ],
   "source": [
    "# List comprehension realization\n",
    "mystring = 'ACADGILD'\n",
    "mylist = [x for x in mystring]\n",
    "print(mylist)\n",
    "\n",
    "mystring = 'XYZ'\n",
    "mylist = [letter*x for letter in mystring for x in range(1,5)]\n",
    "print(mylist)\n",
    "\n",
    "mystring = 'XYZ'\n",
    "mylist = [ letter*x for x in range(1,5) for letter in mystring  ]\n",
    "print(mylist)\n",
    "\n",
    "mystring = '234'\n",
    "string_list = list(mystring)\n",
    "integer_list = [int(x) for x in string_list]\n",
    "output_list = [[list_items + number] for list_items in integer_list for number in range(0,3) ]\n",
    "print(output_list)\n",
    "\n",
    "mystring = '2345'\n",
    "string_list = list(mystring)\n",
    "integer_list = [int(x) for x in string_list]\n",
    "output_list = [[list_items + number for list_items in integer_list] for number in range(0,4) ]\n",
    "print(output_list)\n",
    "\n",
    "mystring = '123'\n",
    "string_list = list(mystring)\n",
    "integer_list = [int(x) for x in string_list]\n",
    "output_tuple = [ (b,a) for a in integer_list for b in integer_list]\n",
    "print(output_tuple)"
   ]
  },
  {
   "cell_type": "code",
   "execution_count": 19,
   "metadata": {},
   "outputs": [
    {
     "name": "stdout",
     "output_type": "stream",
     "text": [
      "The longest word in the list are :  ['Suriya', 'balaji']\n"
     ]
    }
   ],
   "source": [
    "def Longest_word(words):\n",
    "    longest_length = 0\n",
    "    longest_word = []\n",
    "    #Initially the set the length to zero for comparison \n",
    "    for x in words:\n",
    "        if len(x) > longest_length:\n",
    "            longest_length = len(x)\n",
    "            longest_word = [x]\n",
    "        #Else condition added to handle the condition if two words in the list have equal length\n",
    "        elif len(x) == longest_length:\n",
    "            longest_word.append(x)                                  \n",
    "    return longest_word\n",
    "        \n",
    "Longest_word = print(\"The longest word in the list are : \",Longest_word(['Suriya','Jeet','bittu','balaji']))"
   ]
  }
 ],
 "metadata": {
  "kernelspec": {
   "display_name": "Python 3",
   "language": "python",
   "name": "python3"
  },
  "language_info": {
   "codemirror_mode": {
    "name": "ipython",
    "version": 3
   },
   "file_extension": ".py",
   "mimetype": "text/x-python",
   "name": "python",
   "nbconvert_exporter": "python",
   "pygments_lexer": "ipython3",
   "version": "3.6.1"
  }
 },
 "nbformat": 4,
 "nbformat_minor": 2
}
